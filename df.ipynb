{
 "cells": [
  {
   "cell_type": "code",
   "execution_count": 2,
   "metadata": {},
   "outputs": [],
   "source": [
    "import pandas as pd\n",
    "import numpy as np"
   ]
  },
  {
   "cell_type": "code",
   "execution_count": 3,
   "metadata": {},
   "outputs": [],
   "source": [
    "data = pd.read_csv('healthcare_dataset.csv')"
   ]
  },
  {
   "cell_type": "code",
   "execution_count": 4,
   "metadata": {},
   "outputs": [
    {
     "data": {
      "text/html": [
       "<div>\n",
       "<style scoped>\n",
       "    .dataframe tbody tr th:only-of-type {\n",
       "        vertical-align: middle;\n",
       "    }\n",
       "\n",
       "    .dataframe tbody tr th {\n",
       "        vertical-align: top;\n",
       "    }\n",
       "\n",
       "    .dataframe thead th {\n",
       "        text-align: right;\n",
       "    }\n",
       "</style>\n",
       "<table border=\"1\" class=\"dataframe\">\n",
       "  <thead>\n",
       "    <tr style=\"text-align: right;\">\n",
       "      <th></th>\n",
       "      <th>Name</th>\n",
       "      <th>Age</th>\n",
       "      <th>Gender</th>\n",
       "      <th>Blood Type</th>\n",
       "      <th>Medical Condition</th>\n",
       "      <th>Date of Admission</th>\n",
       "      <th>Doctor</th>\n",
       "      <th>Hospital</th>\n",
       "      <th>Insurance Provider</th>\n",
       "      <th>Billing Amount</th>\n",
       "      <th>Room Number</th>\n",
       "      <th>Admission Type</th>\n",
       "      <th>Discharge Date</th>\n",
       "      <th>Medication</th>\n",
       "      <th>Test Results</th>\n",
       "    </tr>\n",
       "  </thead>\n",
       "  <tbody>\n",
       "    <tr>\n",
       "      <th>0</th>\n",
       "      <td>Bobby JacksOn</td>\n",
       "      <td>30</td>\n",
       "      <td>Male</td>\n",
       "      <td>B-</td>\n",
       "      <td>Cancer</td>\n",
       "      <td>2024-01-31</td>\n",
       "      <td>Matthew Smith</td>\n",
       "      <td>Sons and Miller</td>\n",
       "      <td>Blue Cross</td>\n",
       "      <td>18856.281306</td>\n",
       "      <td>328</td>\n",
       "      <td>Urgent</td>\n",
       "      <td>2024-02-02</td>\n",
       "      <td>Paracetamol</td>\n",
       "      <td>Normal</td>\n",
       "    </tr>\n",
       "    <tr>\n",
       "      <th>1</th>\n",
       "      <td>LesLie TErRy</td>\n",
       "      <td>62</td>\n",
       "      <td>Male</td>\n",
       "      <td>A+</td>\n",
       "      <td>Obesity</td>\n",
       "      <td>2019-08-20</td>\n",
       "      <td>Samantha Davies</td>\n",
       "      <td>Kim Inc</td>\n",
       "      <td>Medicare</td>\n",
       "      <td>33643.327287</td>\n",
       "      <td>265</td>\n",
       "      <td>Emergency</td>\n",
       "      <td>2019-08-26</td>\n",
       "      <td>Ibuprofen</td>\n",
       "      <td>Inconclusive</td>\n",
       "    </tr>\n",
       "    <tr>\n",
       "      <th>2</th>\n",
       "      <td>DaNnY sMitH</td>\n",
       "      <td>76</td>\n",
       "      <td>Female</td>\n",
       "      <td>A-</td>\n",
       "      <td>Obesity</td>\n",
       "      <td>2022-09-22</td>\n",
       "      <td>Tiffany Mitchell</td>\n",
       "      <td>Cook PLC</td>\n",
       "      <td>Aetna</td>\n",
       "      <td>27955.096079</td>\n",
       "      <td>205</td>\n",
       "      <td>Emergency</td>\n",
       "      <td>2022-10-07</td>\n",
       "      <td>Aspirin</td>\n",
       "      <td>Normal</td>\n",
       "    </tr>\n",
       "    <tr>\n",
       "      <th>3</th>\n",
       "      <td>andrEw waTtS</td>\n",
       "      <td>28</td>\n",
       "      <td>Female</td>\n",
       "      <td>O+</td>\n",
       "      <td>Diabetes</td>\n",
       "      <td>2020-11-18</td>\n",
       "      <td>Kevin Wells</td>\n",
       "      <td>Hernandez Rogers and Vang,</td>\n",
       "      <td>Medicare</td>\n",
       "      <td>37909.782410</td>\n",
       "      <td>450</td>\n",
       "      <td>Elective</td>\n",
       "      <td>2020-12-18</td>\n",
       "      <td>Ibuprofen</td>\n",
       "      <td>Abnormal</td>\n",
       "    </tr>\n",
       "    <tr>\n",
       "      <th>4</th>\n",
       "      <td>adrIENNE bEll</td>\n",
       "      <td>43</td>\n",
       "      <td>Female</td>\n",
       "      <td>AB+</td>\n",
       "      <td>Cancer</td>\n",
       "      <td>2022-09-19</td>\n",
       "      <td>Kathleen Hanna</td>\n",
       "      <td>White-White</td>\n",
       "      <td>Aetna</td>\n",
       "      <td>14238.317814</td>\n",
       "      <td>458</td>\n",
       "      <td>Urgent</td>\n",
       "      <td>2022-10-09</td>\n",
       "      <td>Penicillin</td>\n",
       "      <td>Abnormal</td>\n",
       "    </tr>\n",
       "  </tbody>\n",
       "</table>\n",
       "</div>"
      ],
      "text/plain": [
       "            Name  Age  Gender Blood Type Medical Condition Date of Admission  \\\n",
       "0  Bobby JacksOn   30    Male         B-            Cancer        2024-01-31   \n",
       "1   LesLie TErRy   62    Male         A+           Obesity        2019-08-20   \n",
       "2    DaNnY sMitH   76  Female         A-           Obesity        2022-09-22   \n",
       "3   andrEw waTtS   28  Female         O+          Diabetes        2020-11-18   \n",
       "4  adrIENNE bEll   43  Female        AB+            Cancer        2022-09-19   \n",
       "\n",
       "             Doctor                    Hospital Insurance Provider  \\\n",
       "0     Matthew Smith             Sons and Miller         Blue Cross   \n",
       "1   Samantha Davies                     Kim Inc           Medicare   \n",
       "2  Tiffany Mitchell                    Cook PLC              Aetna   \n",
       "3       Kevin Wells  Hernandez Rogers and Vang,           Medicare   \n",
       "4    Kathleen Hanna                 White-White              Aetna   \n",
       "\n",
       "   Billing Amount  Room Number Admission Type Discharge Date   Medication  \\\n",
       "0    18856.281306          328         Urgent     2024-02-02  Paracetamol   \n",
       "1    33643.327287          265      Emergency     2019-08-26    Ibuprofen   \n",
       "2    27955.096079          205      Emergency     2022-10-07      Aspirin   \n",
       "3    37909.782410          450       Elective     2020-12-18    Ibuprofen   \n",
       "4    14238.317814          458         Urgent     2022-10-09   Penicillin   \n",
       "\n",
       "   Test Results  \n",
       "0        Normal  \n",
       "1  Inconclusive  \n",
       "2        Normal  \n",
       "3      Abnormal  \n",
       "4      Abnormal  "
      ]
     },
     "execution_count": 4,
     "metadata": {},
     "output_type": "execute_result"
    }
   ],
   "source": [
    "data.head()"
   ]
  },
  {
   "cell_type": "markdown",
   "metadata": {},
   "source": [
    "### DATA PREPROCESSING"
   ]
  },
  {
   "cell_type": "code",
   "execution_count": 5,
   "metadata": {},
   "outputs": [
    {
     "name": "stdout",
     "output_type": "stream",
     "text": [
      "<class 'pandas.core.frame.DataFrame'>\n",
      "RangeIndex: 55500 entries, 0 to 55499\n",
      "Data columns (total 15 columns):\n",
      " #   Column              Non-Null Count  Dtype  \n",
      "---  ------              --------------  -----  \n",
      " 0   Name                55500 non-null  object \n",
      " 1   Age                 55500 non-null  int64  \n",
      " 2   Gender              55500 non-null  object \n",
      " 3   Blood Type          55500 non-null  object \n",
      " 4   Medical Condition   55500 non-null  object \n",
      " 5   Date of Admission   55500 non-null  object \n",
      " 6   Doctor              55500 non-null  object \n",
      " 7   Hospital            55500 non-null  object \n",
      " 8   Insurance Provider  55500 non-null  object \n",
      " 9   Billing Amount      55500 non-null  float64\n",
      " 10  Room Number         55500 non-null  int64  \n",
      " 11  Admission Type      55500 non-null  object \n",
      " 12  Discharge Date      55500 non-null  object \n",
      " 13  Medication          55500 non-null  object \n",
      " 14  Test Results        55500 non-null  object \n",
      "dtypes: float64(1), int64(2), object(12)\n",
      "memory usage: 6.4+ MB\n"
     ]
    }
   ],
   "source": [
    "data.info()"
   ]
  },
  {
   "cell_type": "code",
   "execution_count": 6,
   "metadata": {},
   "outputs": [
    {
     "data": {
      "text/plain": [
       "Name                  0\n",
       "Age                   0\n",
       "Gender                0\n",
       "Blood Type            0\n",
       "Medical Condition     0\n",
       "Date of Admission     0\n",
       "Doctor                0\n",
       "Hospital              0\n",
       "Insurance Provider    0\n",
       "Billing Amount        0\n",
       "Room Number           0\n",
       "Admission Type        0\n",
       "Discharge Date        0\n",
       "Medication            0\n",
       "Test Results          0\n",
       "dtype: int64"
      ]
     },
     "execution_count": 6,
     "metadata": {},
     "output_type": "execute_result"
    }
   ],
   "source": [
    "data.isna().sum()"
   ]
  },
  {
   "cell_type": "markdown",
   "metadata": {},
   "source": [
    "    колонку с номером палаты сразу дропнем, тк на результат выздоровления она никак не будет влиять"
   ]
  },
  {
   "cell_type": "code",
   "execution_count": 7,
   "metadata": {},
   "outputs": [],
   "source": [
    "data = data.drop('Room Number', axis=1)"
   ]
  },
  {
   "cell_type": "markdown",
   "metadata": {},
   "source": [
    "### Data types conversion"
   ]
  },
  {
   "cell_type": "markdown",
   "metadata": {},
   "source": [
    "    сначала с датами в datetime"
   ]
  },
  {
   "cell_type": "code",
   "execution_count": 8,
   "metadata": {},
   "outputs": [],
   "source": [
    "data['Date of Admission'] = pd.to_datetime(data['Date of Admission'])\n",
    "data['Discharge Date'] = pd.to_datetime(data['Discharge Date'])"
   ]
  },
  {
   "cell_type": "markdown",
   "metadata": {},
   "source": [
    "### Categorical features"
   ]
  },
  {
   "cell_type": "code",
   "execution_count": 9,
   "metadata": {},
   "outputs": [
    {
     "data": {
      "text/plain": [
       "['Name',\n",
       " 'Gender',\n",
       " 'Blood Type',\n",
       " 'Medical Condition',\n",
       " 'Doctor',\n",
       " 'Hospital',\n",
       " 'Insurance Provider',\n",
       " 'Admission Type',\n",
       " 'Medication',\n",
       " 'Test Results']"
      ]
     },
     "execution_count": 9,
     "metadata": {},
     "output_type": "execute_result"
    }
   ],
   "source": [
    "data.select_dtypes(include='object').columns.to_list()"
   ]
  },
  {
   "cell_type": "markdown",
   "metadata": {},
   "source": [
    "    посмотрим на количество уникальных значений в названии госпителей и имен врачей"
   ]
  },
  {
   "cell_type": "code",
   "execution_count": 10,
   "metadata": {},
   "outputs": [
    {
     "data": {
      "text/plain": [
       "(40341, 39876)"
      ]
     },
     "execution_count": 10,
     "metadata": {},
     "output_type": "execute_result"
    }
   ],
   "source": [
    "len(data['Doctor'].unique()), len(data['Hospital'].unique())"
   ]
  },
  {
   "cell_type": "code",
   "execution_count": 11,
   "metadata": {},
   "outputs": [
    {
     "data": {
      "text/plain": [
       "Hospital\n",
       "Abbott Inc                       1\n",
       "Abbott Ltd                       1\n",
       "Abbott Moore and Williams,       1\n",
       "Abbott and Thompson, Sullivan    1\n",
       "Abbott, Peters and Hoffman       1\n",
       "                                ..\n",
       "and Zimmerman Sons               1\n",
       "and Zuniga Davis Carlson,        1\n",
       "and Zuniga Francis Peterson,     1\n",
       "and Zuniga Sons                  1\n",
       "and Zuniga Thompson, Blake       1\n",
       "Name: Test Results, Length: 39876, dtype: int64"
      ]
     },
     "execution_count": 11,
     "metadata": {},
     "output_type": "execute_result"
    }
   ],
   "source": [
    "data.groupby('Hospital')['Test Results'].nunique()"
   ]
  },
  {
   "cell_type": "code",
   "execution_count": 12,
   "metadata": {},
   "outputs": [
    {
     "data": {
      "text/plain": [
       "Doctor\n",
       "Aaron Acevedo      1\n",
       "Aaron Adams        1\n",
       "Aaron Aguilar      1\n",
       "Aaron Alexander    1\n",
       "Aaron Anderson     1\n",
       "                  ..\n",
       "Zoe Khan           1\n",
       "Zoe Knight         1\n",
       "Zoe Nichols        1\n",
       "Zoe Roberts        1\n",
       "Zoe Wallace        1\n",
       "Name: Test Results, Length: 40341, dtype: int64"
      ]
     },
     "execution_count": 12,
     "metadata": {},
     "output_type": "execute_result"
    }
   ],
   "source": [
    "data.groupby('Doctor')['Test Results'].nunique()"
   ]
  },
  {
   "cell_type": "markdown",
   "metadata": {},
   "source": [
    "    как врачи так и госпитали не имеют примерно по одному уникальному значению, поэтому не вносят вклад, можем дропнуть(если бы у нас была информация о профессии врача или например местонахождении больниц, то можно было например сгруппировать по странам,чтобы понять,где чаще всего лечатся и где лучше результаты в медицине)"
   ]
  },
  {
   "cell_type": "code",
   "execution_count": 13,
   "metadata": {},
   "outputs": [],
   "source": [
    "data = data.drop(['Name', 'Hospital', 'Doctor'], axis=1)"
   ]
  },
  {
   "cell_type": "markdown",
   "metadata": {},
   "source": [
    "    начнем кодировать наши данные"
   ]
  },
  {
   "cell_type": "code",
   "execution_count": 14,
   "metadata": {},
   "outputs": [
    {
     "data": {
      "text/plain": [
       "array(['Male', 'Female'], dtype=object)"
      ]
     },
     "execution_count": 14,
     "metadata": {},
     "output_type": "execute_result"
    }
   ],
   "source": [
    "data['Gender'].unique()"
   ]
  },
  {
   "cell_type": "code",
   "execution_count": 15,
   "metadata": {},
   "outputs": [],
   "source": [
    "data['Gender'] = data['Gender'].map({\n",
    "    'Male': 0,\n",
    "    'Female': 1\n",
    "})"
   ]
  },
  {
   "cell_type": "code",
   "execution_count": 16,
   "metadata": {},
   "outputs": [],
   "source": [
    "cat_features = data.select_dtypes(include='object').columns.to_list()"
   ]
  },
  {
   "cell_type": "code",
   "execution_count": 17,
   "metadata": {},
   "outputs": [
    {
     "name": "stdout",
     "output_type": "stream",
     "text": [
      "'Blood Type' column's unique values:\n",
      " ['B-' 'A+' 'A-' 'O+' 'AB+' 'AB-' 'B+' 'O-']\n",
      "\n",
      "'Medical Condition' column's unique values:\n",
      " ['Cancer' 'Obesity' 'Diabetes' 'Asthma' 'Hypertension' 'Arthritis']\n",
      "\n",
      "'Insurance Provider' column's unique values:\n",
      " ['Blue Cross' 'Medicare' 'Aetna' 'UnitedHealthcare' 'Cigna']\n",
      "\n",
      "'Admission Type' column's unique values:\n",
      " ['Urgent' 'Emergency' 'Elective']\n",
      "\n",
      "'Medication' column's unique values:\n",
      " ['Paracetamol' 'Ibuprofen' 'Aspirin' 'Penicillin' 'Lipitor']\n",
      "\n",
      "'Test Results' column's unique values:\n",
      " ['Normal' 'Inconclusive' 'Abnormal']\n",
      "\n"
     ]
    }
   ],
   "source": [
    "for el in list(cat_features):\n",
    "    print(f\"'{el}' column's unique values:\\n {data[el].unique()}\\n\")"
   ]
  },
  {
   "cell_type": "markdown",
   "metadata": {},
   "source": [
    "    так как у нас в каждом признаке меньше 10 категорий, то используем one hot encoder"
   ]
  },
  {
   "cell_type": "code",
   "execution_count": 18,
   "metadata": {},
   "outputs": [],
   "source": [
    "from sklearn.preprocessing import OneHotEncoder"
   ]
  },
  {
   "cell_type": "code",
   "execution_count": 19,
   "metadata": {},
   "outputs": [],
   "source": [
    "one_hot_encoder = OneHotEncoder(sparse_output=False)\n",
    "one_hot_df = one_hot_encoder.fit_transform(data[cat_features])\n",
    "\n",
    "data_encoded = pd.DataFrame(one_hot_df, columns=one_hot_encoder.get_feature_names_out(cat_features))\n",
    "data_encoded = pd.concat([data, data_encoded], axis=1)\n",
    "data_encoded = data_encoded.drop(cat_features, axis=1)"
   ]
  },
  {
   "cell_type": "code",
   "execution_count": 20,
   "metadata": {},
   "outputs": [
    {
     "name": "stdout",
     "output_type": "stream",
     "text": [
      "<class 'pandas.core.frame.DataFrame'>\n",
      "RangeIndex: 55500 entries, 0 to 55499\n",
      "Data columns (total 35 columns):\n",
      " #   Column                               Non-Null Count  Dtype         \n",
      "---  ------                               --------------  -----         \n",
      " 0   Age                                  55500 non-null  int64         \n",
      " 1   Gender                               55500 non-null  int64         \n",
      " 2   Date of Admission                    55500 non-null  datetime64[ns]\n",
      " 3   Billing Amount                       55500 non-null  float64       \n",
      " 4   Discharge Date                       55500 non-null  datetime64[ns]\n",
      " 5   Blood Type_A+                        55500 non-null  float64       \n",
      " 6   Blood Type_A-                        55500 non-null  float64       \n",
      " 7   Blood Type_AB+                       55500 non-null  float64       \n",
      " 8   Blood Type_AB-                       55500 non-null  float64       \n",
      " 9   Blood Type_B+                        55500 non-null  float64       \n",
      " 10  Blood Type_B-                        55500 non-null  float64       \n",
      " 11  Blood Type_O+                        55500 non-null  float64       \n",
      " 12  Blood Type_O-                        55500 non-null  float64       \n",
      " 13  Medical Condition_Arthritis          55500 non-null  float64       \n",
      " 14  Medical Condition_Asthma             55500 non-null  float64       \n",
      " 15  Medical Condition_Cancer             55500 non-null  float64       \n",
      " 16  Medical Condition_Diabetes           55500 non-null  float64       \n",
      " 17  Medical Condition_Hypertension       55500 non-null  float64       \n",
      " 18  Medical Condition_Obesity            55500 non-null  float64       \n",
      " 19  Insurance Provider_Aetna             55500 non-null  float64       \n",
      " 20  Insurance Provider_Blue Cross        55500 non-null  float64       \n",
      " 21  Insurance Provider_Cigna             55500 non-null  float64       \n",
      " 22  Insurance Provider_Medicare          55500 non-null  float64       \n",
      " 23  Insurance Provider_UnitedHealthcare  55500 non-null  float64       \n",
      " 24  Admission Type_Elective              55500 non-null  float64       \n",
      " 25  Admission Type_Emergency             55500 non-null  float64       \n",
      " 26  Admission Type_Urgent                55500 non-null  float64       \n",
      " 27  Medication_Aspirin                   55500 non-null  float64       \n",
      " 28  Medication_Ibuprofen                 55500 non-null  float64       \n",
      " 29  Medication_Lipitor                   55500 non-null  float64       \n",
      " 30  Medication_Paracetamol               55500 non-null  float64       \n",
      " 31  Medication_Penicillin                55500 non-null  float64       \n",
      " 32  Test Results_Abnormal                55500 non-null  float64       \n",
      " 33  Test Results_Inconclusive            55500 non-null  float64       \n",
      " 34  Test Results_Normal                  55500 non-null  float64       \n",
      "dtypes: datetime64[ns](2), float64(31), int64(2)\n",
      "memory usage: 14.8 MB\n"
     ]
    }
   ],
   "source": [
    "data_encoded.info()"
   ]
  },
  {
   "cell_type": "markdown",
   "metadata": {},
   "source": [
    "### Datatime new feature"
   ]
  },
  {
   "cell_type": "markdown",
   "metadata": {},
   "source": [
    "    добавим новый признак продолжительсноть лечение, чтобы можно было оценить как тяжесть болезни по продолжительности влияет на результат"
   ]
  },
  {
   "cell_type": "code",
   "execution_count": 21,
   "metadata": {},
   "outputs": [
    {
     "data": {
      "text/html": [
       "<div>\n",
       "<style scoped>\n",
       "    .dataframe tbody tr th:only-of-type {\n",
       "        vertical-align: middle;\n",
       "    }\n",
       "\n",
       "    .dataframe tbody tr th {\n",
       "        vertical-align: top;\n",
       "    }\n",
       "\n",
       "    .dataframe thead th {\n",
       "        text-align: right;\n",
       "    }\n",
       "</style>\n",
       "<table border=\"1\" class=\"dataframe\">\n",
       "  <thead>\n",
       "    <tr style=\"text-align: right;\">\n",
       "      <th></th>\n",
       "      <th>Age</th>\n",
       "      <th>Gender</th>\n",
       "      <th>Date of Admission</th>\n",
       "      <th>Billing Amount</th>\n",
       "      <th>Discharge Date</th>\n",
       "      <th>Blood Type_A+</th>\n",
       "      <th>Blood Type_A-</th>\n",
       "      <th>Blood Type_AB+</th>\n",
       "      <th>Blood Type_AB-</th>\n",
       "      <th>Blood Type_B+</th>\n",
       "      <th>...</th>\n",
       "      <th>Admission Type_Emergency</th>\n",
       "      <th>Admission Type_Urgent</th>\n",
       "      <th>Medication_Aspirin</th>\n",
       "      <th>Medication_Ibuprofen</th>\n",
       "      <th>Medication_Lipitor</th>\n",
       "      <th>Medication_Paracetamol</th>\n",
       "      <th>Medication_Penicillin</th>\n",
       "      <th>Test Results_Abnormal</th>\n",
       "      <th>Test Results_Inconclusive</th>\n",
       "      <th>Test Results_Normal</th>\n",
       "    </tr>\n",
       "  </thead>\n",
       "  <tbody>\n",
       "    <tr>\n",
       "      <th>0</th>\n",
       "      <td>30</td>\n",
       "      <td>0</td>\n",
       "      <td>2024-01-31</td>\n",
       "      <td>18856.281306</td>\n",
       "      <td>2024-02-02</td>\n",
       "      <td>0.0</td>\n",
       "      <td>0.0</td>\n",
       "      <td>0.0</td>\n",
       "      <td>0.0</td>\n",
       "      <td>0.0</td>\n",
       "      <td>...</td>\n",
       "      <td>0.0</td>\n",
       "      <td>1.0</td>\n",
       "      <td>0.0</td>\n",
       "      <td>0.0</td>\n",
       "      <td>0.0</td>\n",
       "      <td>1.0</td>\n",
       "      <td>0.0</td>\n",
       "      <td>0.0</td>\n",
       "      <td>0.0</td>\n",
       "      <td>1.0</td>\n",
       "    </tr>\n",
       "    <tr>\n",
       "      <th>1</th>\n",
       "      <td>62</td>\n",
       "      <td>0</td>\n",
       "      <td>2019-08-20</td>\n",
       "      <td>33643.327287</td>\n",
       "      <td>2019-08-26</td>\n",
       "      <td>1.0</td>\n",
       "      <td>0.0</td>\n",
       "      <td>0.0</td>\n",
       "      <td>0.0</td>\n",
       "      <td>0.0</td>\n",
       "      <td>...</td>\n",
       "      <td>1.0</td>\n",
       "      <td>0.0</td>\n",
       "      <td>0.0</td>\n",
       "      <td>1.0</td>\n",
       "      <td>0.0</td>\n",
       "      <td>0.0</td>\n",
       "      <td>0.0</td>\n",
       "      <td>0.0</td>\n",
       "      <td>1.0</td>\n",
       "      <td>0.0</td>\n",
       "    </tr>\n",
       "    <tr>\n",
       "      <th>2</th>\n",
       "      <td>76</td>\n",
       "      <td>1</td>\n",
       "      <td>2022-09-22</td>\n",
       "      <td>27955.096079</td>\n",
       "      <td>2022-10-07</td>\n",
       "      <td>0.0</td>\n",
       "      <td>1.0</td>\n",
       "      <td>0.0</td>\n",
       "      <td>0.0</td>\n",
       "      <td>0.0</td>\n",
       "      <td>...</td>\n",
       "      <td>1.0</td>\n",
       "      <td>0.0</td>\n",
       "      <td>1.0</td>\n",
       "      <td>0.0</td>\n",
       "      <td>0.0</td>\n",
       "      <td>0.0</td>\n",
       "      <td>0.0</td>\n",
       "      <td>0.0</td>\n",
       "      <td>0.0</td>\n",
       "      <td>1.0</td>\n",
       "    </tr>\n",
       "    <tr>\n",
       "      <th>3</th>\n",
       "      <td>28</td>\n",
       "      <td>1</td>\n",
       "      <td>2020-11-18</td>\n",
       "      <td>37909.782410</td>\n",
       "      <td>2020-12-18</td>\n",
       "      <td>0.0</td>\n",
       "      <td>0.0</td>\n",
       "      <td>0.0</td>\n",
       "      <td>0.0</td>\n",
       "      <td>0.0</td>\n",
       "      <td>...</td>\n",
       "      <td>0.0</td>\n",
       "      <td>0.0</td>\n",
       "      <td>0.0</td>\n",
       "      <td>1.0</td>\n",
       "      <td>0.0</td>\n",
       "      <td>0.0</td>\n",
       "      <td>0.0</td>\n",
       "      <td>1.0</td>\n",
       "      <td>0.0</td>\n",
       "      <td>0.0</td>\n",
       "    </tr>\n",
       "    <tr>\n",
       "      <th>4</th>\n",
       "      <td>43</td>\n",
       "      <td>1</td>\n",
       "      <td>2022-09-19</td>\n",
       "      <td>14238.317814</td>\n",
       "      <td>2022-10-09</td>\n",
       "      <td>0.0</td>\n",
       "      <td>0.0</td>\n",
       "      <td>1.0</td>\n",
       "      <td>0.0</td>\n",
       "      <td>0.0</td>\n",
       "      <td>...</td>\n",
       "      <td>0.0</td>\n",
       "      <td>1.0</td>\n",
       "      <td>0.0</td>\n",
       "      <td>0.0</td>\n",
       "      <td>0.0</td>\n",
       "      <td>0.0</td>\n",
       "      <td>1.0</td>\n",
       "      <td>1.0</td>\n",
       "      <td>0.0</td>\n",
       "      <td>0.0</td>\n",
       "    </tr>\n",
       "  </tbody>\n",
       "</table>\n",
       "<p>5 rows × 35 columns</p>\n",
       "</div>"
      ],
      "text/plain": [
       "   Age  Gender Date of Admission  Billing Amount Discharge Date  \\\n",
       "0   30       0        2024-01-31    18856.281306     2024-02-02   \n",
       "1   62       0        2019-08-20    33643.327287     2019-08-26   \n",
       "2   76       1        2022-09-22    27955.096079     2022-10-07   \n",
       "3   28       1        2020-11-18    37909.782410     2020-12-18   \n",
       "4   43       1        2022-09-19    14238.317814     2022-10-09   \n",
       "\n",
       "   Blood Type_A+  Blood Type_A-  Blood Type_AB+  Blood Type_AB-  \\\n",
       "0            0.0            0.0             0.0             0.0   \n",
       "1            1.0            0.0             0.0             0.0   \n",
       "2            0.0            1.0             0.0             0.0   \n",
       "3            0.0            0.0             0.0             0.0   \n",
       "4            0.0            0.0             1.0             0.0   \n",
       "\n",
       "   Blood Type_B+  ...  Admission Type_Emergency  Admission Type_Urgent  \\\n",
       "0            0.0  ...                       0.0                    1.0   \n",
       "1            0.0  ...                       1.0                    0.0   \n",
       "2            0.0  ...                       1.0                    0.0   \n",
       "3            0.0  ...                       0.0                    0.0   \n",
       "4            0.0  ...                       0.0                    1.0   \n",
       "\n",
       "   Medication_Aspirin  Medication_Ibuprofen  Medication_Lipitor  \\\n",
       "0                 0.0                   0.0                 0.0   \n",
       "1                 0.0                   1.0                 0.0   \n",
       "2                 1.0                   0.0                 0.0   \n",
       "3                 0.0                   1.0                 0.0   \n",
       "4                 0.0                   0.0                 0.0   \n",
       "\n",
       "   Medication_Paracetamol  Medication_Penicillin  Test Results_Abnormal  \\\n",
       "0                     1.0                    0.0                    0.0   \n",
       "1                     0.0                    0.0                    0.0   \n",
       "2                     0.0                    0.0                    0.0   \n",
       "3                     0.0                    0.0                    1.0   \n",
       "4                     0.0                    1.0                    1.0   \n",
       "\n",
       "   Test Results_Inconclusive  Test Results_Normal  \n",
       "0                        0.0                  1.0  \n",
       "1                        1.0                  0.0  \n",
       "2                        0.0                  1.0  \n",
       "3                        0.0                  0.0  \n",
       "4                        0.0                  0.0  \n",
       "\n",
       "[5 rows x 35 columns]"
      ]
     },
     "execution_count": 21,
     "metadata": {},
     "output_type": "execute_result"
    }
   ],
   "source": [
    "data_encoded.head()"
   ]
  },
  {
   "cell_type": "code",
   "execution_count": 22,
   "metadata": {},
   "outputs": [],
   "source": [
    "data_encoded['Days in Hospital'] = (data_encoded['Discharge Date'] - data_encoded['Date of Admission']).dt.days"
   ]
  },
  {
   "cell_type": "markdown",
   "metadata": {},
   "source": [
    "### Outliers"
   ]
  },
  {
   "cell_type": "code",
   "execution_count": 23,
   "metadata": {},
   "outputs": [],
   "source": [
    "import seaborn as sns\n",
    "import matplotlib.pyplot as plt\n",
    "sns.set_style('darkgrid')"
   ]
  },
  {
   "cell_type": "code",
   "execution_count": 27,
   "metadata": {},
   "outputs": [
    {
     "data": {
      "image/png": "[encoded data removed]",
      "text/plain": [
       "<Figure size 1200x600 with 2 Axes>"
      ]
     },
     "metadata": {},
     "output_type": "display_data"
    }
   ],
   "source": [
    "fig, axes = plt.subplots(1, 2, figsize=(12, 6))\n",
    "\n",
    "sns.boxplot(data_encoded['Billing Amount'], ax=axes[0])\n",
    "axes[0].set_title('Boxplot Billing Amount')\n",
    "\n",
    "data_encoded['Billing Amount'].hist(ax=axes[1])\n",
    "axes[1].set_title('Histogram Billing Amount')\n",
    "\n",
    "plt.tight_layout()\n",
    "plt.show()"
   ]
  },
  {
   "cell_type": "code",
   "execution_count": 25,
   "metadata": {},
   "outputs": [
    {
     "data": {
      "image/png": "[encoded data removed]",
      "text/plain": [
       "<Figure size 1200x600 with 2 Axes>"
      ]
     },
     "metadata": {},
     "output_type": "display_data"
    }
   ],
   "source": [
    "fig, axes = plt.subplots(1, 2, figsize=(12, 6))\n",
    "\n",
    "sns.boxplot(data=data_encoded['Age'], ax=axes[0])\n",
    "axes[0].set_title('Boxplot Age')\n",
    "\n",
    "data['Age'].hist(ax=axes[1])\n",
    "axes[1].set_title('Histogram Age')\n",
    "\n",
    "plt.tight_layout()\n",
    "plt.show()"
   ]
  },
  {
   "cell_type": "markdown",
   "metadata": {},
   "source": [
    "    как можем видеть выбросов нигде нет, распредления близки к нормальным. так же проверим, распределение количества дней в госпитале, чтобы избежать выбросов и некорректно введенных дат"
   ]
  },
  {
   "cell_type": "code",
   "execution_count": 29,
   "metadata": {},
   "outputs": [
    {
     "data": {
      "image/png": "[encoded data removed]",
      "text/plain": [
       "<Figure size 1200x600 with 2 Axes>"
      ]
     },
     "metadata": {},
     "output_type": "display_data"
    }
   ],
   "source": [
    "fig, axes = plt.subplots(1, 2, figsize=(12, 6))\n",
    "\n",
    "sns.boxplot(data=data_encoded['Days in Hospital'], ax=axes[0])\n",
    "axes[0].set_title('Boxplot Days in Hospital')\n",
    "\n",
    "data['Age'].hist(ax=axes[1])\n",
    "axes[1].set_title('Histogram Days in Hospital')\n",
    "\n",
    "plt.tight_layout()\n",
    "plt.show()"
   ]
  },
  {
   "cell_type": "markdown",
   "metadata": {},
   "source": [
    "    тут так же выбросов никаких нет, значит все ок"
   ]
  },
  {
   "cell_type": "markdown",
   "metadata": {},
   "source": [
    "## Visualisation analysis"
   ]
  },
  {
   "cell_type": "markdown",
   "metadata": {},
   "source": []
  }
 ],
 "metadata": {
  "kernelspec": {
   "display_name": "base",
   "language": "python",
   "name": "python3"
  },
  "language_info": {
   "codemirror_mode": {
    "name": "ipython",
    "version": 3
   },
   "file_extension": ".py",
   "mimetype": "text/x-python",
   "name": "python",
   "nbconvert_exporter": "python",
   "pygments_lexer": "ipython3",
   "version": "3.11.7"
  }
 },
 "nbformat": 4,
 "nbformat_minor": 2
}
