{
 "cells": [
  {
   "cell_type": "code",
   "execution_count": 2,
   "metadata": {},
   "outputs": [],
   "source": [
    "import pandas as pd\n",
    "import numpy as np\n",
    "import seaborn as sns\n",
    "import matplotlib.pyplot as plt\n",
    "from sklearn.preprocessing import OneHotEncoder, LabelEncoder\n",
    "\n",
    "sns.set_style('darkgrid')"
   ]
  },
  {
   "cell_type": "markdown",
   "metadata": {},
   "source": [
    "Сперва загрузим датасет"
   ]
  },
  {
   "cell_type": "code",
   "execution_count": 3,
   "metadata": {},
   "outputs": [],
   "source": [
    "data = pd.read_csv('healthcare_dataset.csv')"
   ]
  },
  {
   "cell_type": "code",
   "execution_count": 4,
   "metadata": {},
   "outputs": [
    {
     "data": {
      "text/html": [
       "<div>\n",
       "<style scoped>\n",
       "    .dataframe tbody tr th:only-of-type {\n",
       "        vertical-align: middle;\n",
       "    }\n",
       "\n",
       "    .dataframe tbody tr th {\n",
       "        vertical-align: top;\n",
       "    }\n",
       "\n",
       "    .dataframe thead th {\n",
       "        text-align: right;\n",
       "    }\n",
       "</style>\n",
       "<table border=\"1\" class=\"dataframe\">\n",
       "  <thead>\n",
       "    <tr style=\"text-align: right;\">\n",
       "      <th></th>\n",
       "      <th>Name</th>\n",
       "      <th>Age</th>\n",
       "      <th>Gender</th>\n",
       "      <th>Blood Type</th>\n",
       "      <th>Medical Condition</th>\n",
       "      <th>Date of Admission</th>\n",
       "      <th>Doctor</th>\n",
       "      <th>Hospital</th>\n",
       "      <th>Insurance Provider</th>\n",
       "      <th>Billing Amount</th>\n",
       "      <th>Room Number</th>\n",
       "      <th>Admission Type</th>\n",
       "      <th>Discharge Date</th>\n",
       "      <th>Medication</th>\n",
       "      <th>Test Results</th>\n",
       "    </tr>\n",
       "  </thead>\n",
       "  <tbody>\n",
       "    <tr>\n",
       "      <th>0</th>\n",
       "      <td>Bobby JacksOn</td>\n",
       "      <td>30</td>\n",
       "      <td>Male</td>\n",
       "      <td>B-</td>\n",
       "      <td>Cancer</td>\n",
       "      <td>2024-01-31</td>\n",
       "      <td>Matthew Smith</td>\n",
       "      <td>Sons and Miller</td>\n",
       "      <td>Blue Cross</td>\n",
       "      <td>18856.281306</td>\n",
       "      <td>328</td>\n",
       "      <td>Urgent</td>\n",
       "      <td>2024-02-02</td>\n",
       "      <td>Paracetamol</td>\n",
       "      <td>Normal</td>\n",
       "    </tr>\n",
       "    <tr>\n",
       "      <th>1</th>\n",
       "      <td>LesLie TErRy</td>\n",
       "      <td>62</td>\n",
       "      <td>Male</td>\n",
       "      <td>A+</td>\n",
       "      <td>Obesity</td>\n",
       "      <td>2019-08-20</td>\n",
       "      <td>Samantha Davies</td>\n",
       "      <td>Kim Inc</td>\n",
       "      <td>Medicare</td>\n",
       "      <td>33643.327287</td>\n",
       "      <td>265</td>\n",
       "      <td>Emergency</td>\n",
       "      <td>2019-08-26</td>\n",
       "      <td>Ibuprofen</td>\n",
       "      <td>Inconclusive</td>\n",
       "    </tr>\n",
       "    <tr>\n",
       "      <th>2</th>\n",
       "      <td>DaNnY sMitH</td>\n",
       "      <td>76</td>\n",
       "      <td>Female</td>\n",
       "      <td>A-</td>\n",
       "      <td>Obesity</td>\n",
       "      <td>2022-09-22</td>\n",
       "      <td>Tiffany Mitchell</td>\n",
       "      <td>Cook PLC</td>\n",
       "      <td>Aetna</td>\n",
       "      <td>27955.096079</td>\n",
       "      <td>205</td>\n",
       "      <td>Emergency</td>\n",
       "      <td>2022-10-07</td>\n",
       "      <td>Aspirin</td>\n",
       "      <td>Normal</td>\n",
       "    </tr>\n",
       "    <tr>\n",
       "      <th>3</th>\n",
       "      <td>andrEw waTtS</td>\n",
       "      <td>28</td>\n",
       "      <td>Female</td>\n",
       "      <td>O+</td>\n",
       "      <td>Diabetes</td>\n",
       "      <td>2020-11-18</td>\n",
       "      <td>Kevin Wells</td>\n",
       "      <td>Hernandez Rogers and Vang,</td>\n",
       "      <td>Medicare</td>\n",
       "      <td>37909.782410</td>\n",
       "      <td>450</td>\n",
       "      <td>Elective</td>\n",
       "      <td>2020-12-18</td>\n",
       "      <td>Ibuprofen</td>\n",
       "      <td>Abnormal</td>\n",
       "    </tr>\n",
       "    <tr>\n",
       "      <th>4</th>\n",
       "      <td>adrIENNE bEll</td>\n",
       "      <td>43</td>\n",
       "      <td>Female</td>\n",
       "      <td>AB+</td>\n",
       "      <td>Cancer</td>\n",
       "      <td>2022-09-19</td>\n",
       "      <td>Kathleen Hanna</td>\n",
       "      <td>White-White</td>\n",
       "      <td>Aetna</td>\n",
       "      <td>14238.317814</td>\n",
       "      <td>458</td>\n",
       "      <td>Urgent</td>\n",
       "      <td>2022-10-09</td>\n",
       "      <td>Penicillin</td>\n",
       "      <td>Abnormal</td>\n",
       "    </tr>\n",
       "  </tbody>\n",
       "</table>\n",
       "</div>"
      ],
      "text/plain": [
       "            Name  Age  Gender Blood Type Medical Condition Date of Admission  \\\n",
       "0  Bobby JacksOn   30    Male         B-            Cancer        2024-01-31   \n",
       "1   LesLie TErRy   62    Male         A+           Obesity        2019-08-20   \n",
       "2    DaNnY sMitH   76  Female         A-           Obesity        2022-09-22   \n",
       "3   andrEw waTtS   28  Female         O+          Diabetes        2020-11-18   \n",
       "4  adrIENNE bEll   43  Female        AB+            Cancer        2022-09-19   \n",
       "\n",
       "             Doctor                    Hospital Insurance Provider  \\\n",
       "0     Matthew Smith             Sons and Miller         Blue Cross   \n",
       "1   Samantha Davies                     Kim Inc           Medicare   \n",
       "2  Tiffany Mitchell                    Cook PLC              Aetna   \n",
       "3       Kevin Wells  Hernandez Rogers and Vang,           Medicare   \n",
       "4    Kathleen Hanna                 White-White              Aetna   \n",
       "\n",
       "   Billing Amount  Room Number Admission Type Discharge Date   Medication  \\\n",
       "0    18856.281306          328         Urgent     2024-02-02  Paracetamol   \n",
       "1    33643.327287          265      Emergency     2019-08-26    Ibuprofen   \n",
       "2    27955.096079          205      Emergency     2022-10-07      Aspirin   \n",
       "3    37909.782410          450       Elective     2020-12-18    Ibuprofen   \n",
       "4    14238.317814          458         Urgent     2022-10-09   Penicillin   \n",
       "\n",
       "   Test Results  \n",
       "0        Normal  \n",
       "1  Inconclusive  \n",
       "2        Normal  \n",
       "3      Abnormal  \n",
       "4      Abnormal  "
      ]
     },
     "execution_count": 4,
     "metadata": {},
     "output_type": "execute_result"
    }
   ],
   "source": [
    "data.head()"
   ]
  },
  {
   "cell_type": "markdown",
   "metadata": {},
   "source": [
    "Данный датасет представляет собой набор даннх о пациентах и о медицинской помощи, которая была им предоставлена. \n",
    "\n",
    "Данный датасет взят с [Kaggle](https://www.kaggle.com/datasets/prasad22/healthcare-dataset), откуды мы можем узнать подробное описание каждого признака:  \n",
    "\n",
    "> Name: This column represents the name of the patient associated with the healthcare record. \n",
    "\n",
    "> Age: The age of the patient at the time of admission, expressed in years.  \n",
    "\n",
    "> Gender: Indicates the gender of the patient, either \"Male\" or \"Female.\"  \n",
    "\n",
    "> Blood Type: The patient's blood type, which can be one of the common blood types (e.g., \"A+\", \"O-\", etc.).  \n",
    "\n",
    "> Medical Condition: This column specifies the primary medical condition or diagnosis associated with the patient, such as \"Diabetes,\" \"Hypertension,\" \"Asthma,\" and more.  \n",
    "\n",
    "> Date of Admission: The date on which the patient was admitted to the healthcare facility.  \n",
    "\n",
    "> Doctor: The name of the doctor responsible for the patient's care during their admission.  \n",
    "\n",
    "> Hospital: Identifies the healthcare facility or hospital where the patient was admitted.  \n",
    "\n",
    "> Insurance Provider: This column indicates the patient's insurance provider, which can be one of several options, including \"Aetna,\" \"Blue Cross,\" \"Cigna,\" \"UnitedHealthcare,\" and \"Medicare.\"  \n",
    "\n",
    "> Billing Amount: The amount of money billed for the patient's healthcare services during their admission. This is expressed as a floating-point number.  \n",
    "\n",
    "> Room Number: The room number where the patient was accommodated during their admission.  \n",
    "\n",
    "> Admission Type: Specifies the type of admission, which can be \"Emergency,\" \"Elective,\" or \"Urgent,\" reflecting the circumstances of the admission.  \n",
    "\n",
    "> Discharge Date: The date on which the patient was discharged from the healthcare facility, based on the admission date and a random number of days within a realistic range.  \n",
    "\n",
    "> Medication: Identifies a medication prescribed or administered to the patient during their admission. Examples include \"Aspirin,\" \"Ibuprofen,\" \"Penicillin,\" \"Paracetamol,\" and \"Lipitor.\"  \n",
    "\n",
    "> Test Results: Describes the results of a medical test conducted during the patient's admission. Possible values include \"Normal,\" \"Abnormal,\" or \"Inconclusive,\" indicating the outcome of the test.  \n",
    "\n",
    "\n",
    "**Основная задача**: прогнозирование состояния пациента после его лечения."
   ]
  },
  {
   "cell_type": "markdown",
   "metadata": {},
   "source": [
    "### DATA PREPROCESSING"
   ]
  },
  {
   "cell_type": "markdown",
   "metadata": {},
   "source": [
    "Для начала получим общую информациб о данных. Изучим типы данных и количество записей:"
   ]
  },
  {
   "cell_type": "code",
   "execution_count": 5,
   "metadata": {},
   "outputs": [
    {
     "name": "stdout",
     "output_type": "stream",
     "text": [
      "<class 'pandas.core.frame.DataFrame'>\n",
      "RangeIndex: 55500 entries, 0 to 55499\n",
      "Data columns (total 15 columns):\n",
      " #   Column              Non-Null Count  Dtype  \n",
      "---  ------              --------------  -----  \n",
      " 0   Name                55500 non-null  object \n",
      " 1   Age                 55500 non-null  int64  \n",
      " 2   Gender              55500 non-null  object \n",
      " 3   Blood Type          55500 non-null  object \n",
      " 4   Medical Condition   55500 non-null  object \n",
      " 5   Date of Admission   55500 non-null  object \n",
      " 6   Doctor              55500 non-null  object \n",
      " 7   Hospital            55500 non-null  object \n",
      " 8   Insurance Provider  55500 non-null  object \n",
      " 9   Billing Amount      55500 non-null  float64\n",
      " 10  Room Number         55500 non-null  int64  \n",
      " 11  Admission Type      55500 non-null  object \n",
      " 12  Discharge Date      55500 non-null  object \n",
      " 13  Medication          55500 non-null  object \n",
      " 14  Test Results        55500 non-null  object \n",
      "dtypes: float64(1), int64(2), object(12)\n",
      "memory usage: 6.4+ MB\n"
     ]
    }
   ],
   "source": [
    "data.info()"
   ]
  },
  {
   "cell_type": "code",
   "execution_count": 6,
   "metadata": {},
   "outputs": [
    {
     "data": {
      "text/html": [
       "<div>\n",
       "<style scoped>\n",
       "    .dataframe tbody tr th:only-of-type {\n",
       "        vertical-align: middle;\n",
       "    }\n",
       "\n",
       "    .dataframe tbody tr th {\n",
       "        vertical-align: top;\n",
       "    }\n",
       "\n",
       "    .dataframe thead th {\n",
       "        text-align: right;\n",
       "    }\n",
       "</style>\n",
       "<table border=\"1\" class=\"dataframe\">\n",
       "  <thead>\n",
       "    <tr style=\"text-align: right;\">\n",
       "      <th></th>\n",
       "      <th>Name</th>\n",
       "      <th>Age</th>\n",
       "      <th>Gender</th>\n",
       "      <th>Blood Type</th>\n",
       "      <th>Medical Condition</th>\n",
       "      <th>Date of Admission</th>\n",
       "      <th>Doctor</th>\n",
       "      <th>Hospital</th>\n",
       "      <th>Insurance Provider</th>\n",
       "      <th>Billing Amount</th>\n",
       "      <th>Room Number</th>\n",
       "      <th>Admission Type</th>\n",
       "      <th>Discharge Date</th>\n",
       "      <th>Medication</th>\n",
       "      <th>Test Results</th>\n",
       "    </tr>\n",
       "  </thead>\n",
       "  <tbody>\n",
       "    <tr>\n",
       "      <th>132</th>\n",
       "      <td>ashLEy ERIcKSoN</td>\n",
       "      <td>32</td>\n",
       "      <td>Female</td>\n",
       "      <td>AB-</td>\n",
       "      <td>Cancer</td>\n",
       "      <td>2019-11-05</td>\n",
       "      <td>Gerald Hooper</td>\n",
       "      <td>and Johnson Moore, Branch</td>\n",
       "      <td>Aetna</td>\n",
       "      <td>-502.507813</td>\n",
       "      <td>376</td>\n",
       "      <td>Urgent</td>\n",
       "      <td>2019-11-23</td>\n",
       "      <td>Penicillin</td>\n",
       "      <td>Normal</td>\n",
       "    </tr>\n",
       "    <tr>\n",
       "      <th>799</th>\n",
       "      <td>CHRisTOPHer wEiss</td>\n",
       "      <td>49</td>\n",
       "      <td>Female</td>\n",
       "      <td>AB-</td>\n",
       "      <td>Asthma</td>\n",
       "      <td>2023-02-16</td>\n",
       "      <td>Kelly Thompson</td>\n",
       "      <td>Hunter-Hughes</td>\n",
       "      <td>Aetna</td>\n",
       "      <td>-1018.245371</td>\n",
       "      <td>204</td>\n",
       "      <td>Elective</td>\n",
       "      <td>2023-03-09</td>\n",
       "      <td>Penicillin</td>\n",
       "      <td>Inconclusive</td>\n",
       "    </tr>\n",
       "    <tr>\n",
       "      <th>1018</th>\n",
       "      <td>AsHley WaRnER</td>\n",
       "      <td>60</td>\n",
       "      <td>Male</td>\n",
       "      <td>A+</td>\n",
       "      <td>Hypertension</td>\n",
       "      <td>2021-12-21</td>\n",
       "      <td>Andrea Bentley</td>\n",
       "      <td>and Wagner, Lee Klein</td>\n",
       "      <td>Aetna</td>\n",
       "      <td>-306.364925</td>\n",
       "      <td>426</td>\n",
       "      <td>Elective</td>\n",
       "      <td>2022-01-11</td>\n",
       "      <td>Ibuprofen</td>\n",
       "      <td>Normal</td>\n",
       "    </tr>\n",
       "    <tr>\n",
       "      <th>1421</th>\n",
       "      <td>JAY galloWaY</td>\n",
       "      <td>74</td>\n",
       "      <td>Female</td>\n",
       "      <td>O+</td>\n",
       "      <td>Asthma</td>\n",
       "      <td>2021-01-20</td>\n",
       "      <td>Debra Everett</td>\n",
       "      <td>Group Peters</td>\n",
       "      <td>Blue Cross</td>\n",
       "      <td>-109.097122</td>\n",
       "      <td>381</td>\n",
       "      <td>Emergency</td>\n",
       "      <td>2021-02-09</td>\n",
       "      <td>Ibuprofen</td>\n",
       "      <td>Abnormal</td>\n",
       "    </tr>\n",
       "    <tr>\n",
       "      <th>2103</th>\n",
       "      <td>josHUa wilLIamSon</td>\n",
       "      <td>72</td>\n",
       "      <td>Female</td>\n",
       "      <td>B-</td>\n",
       "      <td>Diabetes</td>\n",
       "      <td>2021-03-21</td>\n",
       "      <td>Wendy Ramos</td>\n",
       "      <td>and Huff Reeves, Dennis</td>\n",
       "      <td>Blue Cross</td>\n",
       "      <td>-576.727907</td>\n",
       "      <td>369</td>\n",
       "      <td>Urgent</td>\n",
       "      <td>2021-04-17</td>\n",
       "      <td>Aspirin</td>\n",
       "      <td>Abnormal</td>\n",
       "    </tr>\n",
       "    <tr>\n",
       "      <th>...</th>\n",
       "      <td>...</td>\n",
       "      <td>...</td>\n",
       "      <td>...</td>\n",
       "      <td>...</td>\n",
       "      <td>...</td>\n",
       "      <td>...</td>\n",
       "      <td>...</td>\n",
       "      <td>...</td>\n",
       "      <td>...</td>\n",
       "      <td>...</td>\n",
       "      <td>...</td>\n",
       "      <td>...</td>\n",
       "      <td>...</td>\n",
       "      <td>...</td>\n",
       "      <td>...</td>\n",
       "    </tr>\n",
       "    <tr>\n",
       "      <th>52894</th>\n",
       "      <td>JosEPh cOx</td>\n",
       "      <td>23</td>\n",
       "      <td>Male</td>\n",
       "      <td>AB-</td>\n",
       "      <td>Diabetes</td>\n",
       "      <td>2019-10-13</td>\n",
       "      <td>Peter Smith</td>\n",
       "      <td>Inc Ward</td>\n",
       "      <td>Blue Cross</td>\n",
       "      <td>-353.865186</td>\n",
       "      <td>271</td>\n",
       "      <td>Elective</td>\n",
       "      <td>2019-10-25</td>\n",
       "      <td>Lipitor</td>\n",
       "      <td>Inconclusive</td>\n",
       "    </tr>\n",
       "    <tr>\n",
       "      <th>53204</th>\n",
       "      <td>AsHley WaRnER</td>\n",
       "      <td>55</td>\n",
       "      <td>Male</td>\n",
       "      <td>A+</td>\n",
       "      <td>Hypertension</td>\n",
       "      <td>2021-12-21</td>\n",
       "      <td>Andrea Bentley</td>\n",
       "      <td>and Wagner, Lee Klein</td>\n",
       "      <td>Aetna</td>\n",
       "      <td>-306.364925</td>\n",
       "      <td>426</td>\n",
       "      <td>Elective</td>\n",
       "      <td>2022-01-11</td>\n",
       "      <td>Ibuprofen</td>\n",
       "      <td>Normal</td>\n",
       "    </tr>\n",
       "    <tr>\n",
       "      <th>53232</th>\n",
       "      <td>dAnIel dRaKe</td>\n",
       "      <td>68</td>\n",
       "      <td>Female</td>\n",
       "      <td>B+</td>\n",
       "      <td>Hypertension</td>\n",
       "      <td>2020-04-24</td>\n",
       "      <td>Brett Ray</td>\n",
       "      <td>Carr Ltd</td>\n",
       "      <td>Aetna</td>\n",
       "      <td>-591.917419</td>\n",
       "      <td>426</td>\n",
       "      <td>Elective</td>\n",
       "      <td>2020-04-26</td>\n",
       "      <td>Lipitor</td>\n",
       "      <td>Abnormal</td>\n",
       "    </tr>\n",
       "    <tr>\n",
       "      <th>54136</th>\n",
       "      <td>DR. micHaEl MckAy</td>\n",
       "      <td>64</td>\n",
       "      <td>Male</td>\n",
       "      <td>O+</td>\n",
       "      <td>Cancer</td>\n",
       "      <td>2019-05-31</td>\n",
       "      <td>Dawn Navarro</td>\n",
       "      <td>Mcconnell and Rios, Clark</td>\n",
       "      <td>UnitedHealthcare</td>\n",
       "      <td>-199.663795</td>\n",
       "      <td>122</td>\n",
       "      <td>Urgent</td>\n",
       "      <td>2019-06-12</td>\n",
       "      <td>Ibuprofen</td>\n",
       "      <td>Abnormal</td>\n",
       "    </tr>\n",
       "    <tr>\n",
       "      <th>55276</th>\n",
       "      <td>JOhN fERRELl</td>\n",
       "      <td>58</td>\n",
       "      <td>Female</td>\n",
       "      <td>O-</td>\n",
       "      <td>Hypertension</td>\n",
       "      <td>2019-05-20</td>\n",
       "      <td>Randy Calderon</td>\n",
       "      <td>Inc Spencer</td>\n",
       "      <td>Medicare</td>\n",
       "      <td>-308.584269</td>\n",
       "      <td>394</td>\n",
       "      <td>Emergency</td>\n",
       "      <td>2019-05-27</td>\n",
       "      <td>Paracetamol</td>\n",
       "      <td>Inconclusive</td>\n",
       "    </tr>\n",
       "  </tbody>\n",
       "</table>\n",
       "<p>108 rows × 15 columns</p>\n",
       "</div>"
      ],
      "text/plain": [
       "                    Name  Age  Gender Blood Type Medical Condition  \\\n",
       "132      ashLEy ERIcKSoN   32  Female        AB-            Cancer   \n",
       "799    CHRisTOPHer wEiss   49  Female        AB-            Asthma   \n",
       "1018       AsHley WaRnER   60    Male         A+      Hypertension   \n",
       "1421        JAY galloWaY   74  Female         O+            Asthma   \n",
       "2103   josHUa wilLIamSon   72  Female         B-          Diabetes   \n",
       "...                  ...  ...     ...        ...               ...   \n",
       "52894         JosEPh cOx   23    Male        AB-          Diabetes   \n",
       "53204      AsHley WaRnER   55    Male         A+      Hypertension   \n",
       "53232       dAnIel dRaKe   68  Female         B+      Hypertension   \n",
       "54136  DR. micHaEl MckAy   64    Male         O+            Cancer   \n",
       "55276       JOhN fERRELl   58  Female         O-      Hypertension   \n",
       "\n",
       "      Date of Admission          Doctor                   Hospital  \\\n",
       "132          2019-11-05   Gerald Hooper  and Johnson Moore, Branch   \n",
       "799          2023-02-16  Kelly Thompson              Hunter-Hughes   \n",
       "1018         2021-12-21  Andrea Bentley      and Wagner, Lee Klein   \n",
       "1421         2021-01-20   Debra Everett               Group Peters   \n",
       "2103         2021-03-21     Wendy Ramos    and Huff Reeves, Dennis   \n",
       "...                 ...             ...                        ...   \n",
       "52894        2019-10-13     Peter Smith                   Inc Ward   \n",
       "53204        2021-12-21  Andrea Bentley      and Wagner, Lee Klein   \n",
       "53232        2020-04-24       Brett Ray                   Carr Ltd   \n",
       "54136        2019-05-31    Dawn Navarro  Mcconnell and Rios, Clark   \n",
       "55276        2019-05-20  Randy Calderon                Inc Spencer   \n",
       "\n",
       "      Insurance Provider  Billing Amount  Room Number Admission Type  \\\n",
       "132                Aetna     -502.507813          376         Urgent   \n",
       "799                Aetna    -1018.245371          204       Elective   \n",
       "1018               Aetna     -306.364925          426       Elective   \n",
       "1421          Blue Cross     -109.097122          381      Emergency   \n",
       "2103          Blue Cross     -576.727907          369         Urgent   \n",
       "...                  ...             ...          ...            ...   \n",
       "52894         Blue Cross     -353.865186          271       Elective   \n",
       "53204              Aetna     -306.364925          426       Elective   \n",
       "53232              Aetna     -591.917419          426       Elective   \n",
       "54136   UnitedHealthcare     -199.663795          122         Urgent   \n",
       "55276           Medicare     -308.584269          394      Emergency   \n",
       "\n",
       "      Discharge Date   Medication  Test Results  \n",
       "132       2019-11-23   Penicillin        Normal  \n",
       "799       2023-03-09   Penicillin  Inconclusive  \n",
       "1018      2022-01-11    Ibuprofen        Normal  \n",
       "1421      2021-02-09    Ibuprofen      Abnormal  \n",
       "2103      2021-04-17      Aspirin      Abnormal  \n",
       "...              ...          ...           ...  \n",
       "52894     2019-10-25      Lipitor  Inconclusive  \n",
       "53204     2022-01-11    Ibuprofen        Normal  \n",
       "53232     2020-04-26      Lipitor      Abnormal  \n",
       "54136     2019-06-12    Ibuprofen      Abnormal  \n",
       "55276     2019-05-27  Paracetamol  Inconclusive  \n",
       "\n",
       "[108 rows x 15 columns]"
      ]
     },
     "execution_count": 6,
     "metadata": {},
     "output_type": "execute_result"
    }
   ],
   "source": [
    "data[data['Billing Amount'] < 0]"
   ]
  },
  {
   "cell_type": "markdown",
   "metadata": {},
   "source": [
    "Теперь рассмотрим статистическое описание числовых столбцов"
   ]
  },
  {
   "cell_type": "code",
   "execution_count": 7,
   "metadata": {},
   "outputs": [
    {
     "data": {
      "text/html": [
       "<div>\n",
       "<style scoped>\n",
       "    .dataframe tbody tr th:only-of-type {\n",
       "        vertical-align: middle;\n",
       "    }\n",
       "\n",
       "    .dataframe tbody tr th {\n",
       "        vertical-align: top;\n",
       "    }\n",
       "\n",
       "    .dataframe thead th {\n",
       "        text-align: right;\n",
       "    }\n",
       "</style>\n",
       "<table border=\"1\" class=\"dataframe\">\n",
       "  <thead>\n",
       "    <tr style=\"text-align: right;\">\n",
       "      <th></th>\n",
       "      <th>Age</th>\n",
       "      <th>Billing Amount</th>\n",
       "      <th>Room Number</th>\n",
       "    </tr>\n",
       "  </thead>\n",
       "  <tbody>\n",
       "    <tr>\n",
       "      <th>count</th>\n",
       "      <td>55500.000000</td>\n",
       "      <td>55500.000000</td>\n",
       "      <td>55500.000000</td>\n",
       "    </tr>\n",
       "    <tr>\n",
       "      <th>mean</th>\n",
       "      <td>51.539459</td>\n",
       "      <td>25539.316097</td>\n",
       "      <td>301.134829</td>\n",
       "    </tr>\n",
       "    <tr>\n",
       "      <th>std</th>\n",
       "      <td>19.602454</td>\n",
       "      <td>14211.454431</td>\n",
       "      <td>115.243069</td>\n",
       "    </tr>\n",
       "    <tr>\n",
       "      <th>min</th>\n",
       "      <td>13.000000</td>\n",
       "      <td>-2008.492140</td>\n",
       "      <td>101.000000</td>\n",
       "    </tr>\n",
       "    <tr>\n",
       "      <th>25%</th>\n",
       "      <td>35.000000</td>\n",
       "      <td>13241.224652</td>\n",
       "      <td>202.000000</td>\n",
       "    </tr>\n",
       "    <tr>\n",
       "      <th>50%</th>\n",
       "      <td>52.000000</td>\n",
       "      <td>25538.069376</td>\n",
       "      <td>302.000000</td>\n",
       "    </tr>\n",
       "    <tr>\n",
       "      <th>75%</th>\n",
       "      <td>68.000000</td>\n",
       "      <td>37820.508436</td>\n",
       "      <td>401.000000</td>\n",
       "    </tr>\n",
       "    <tr>\n",
       "      <th>max</th>\n",
       "      <td>89.000000</td>\n",
       "      <td>52764.276736</td>\n",
       "      <td>500.000000</td>\n",
       "    </tr>\n",
       "  </tbody>\n",
       "</table>\n",
       "</div>"
      ],
      "text/plain": [
       "                Age  Billing Amount   Room Number\n",
       "count  55500.000000    55500.000000  55500.000000\n",
       "mean      51.539459    25539.316097    301.134829\n",
       "std       19.602454    14211.454431    115.243069\n",
       "min       13.000000    -2008.492140    101.000000\n",
       "25%       35.000000    13241.224652    202.000000\n",
       "50%       52.000000    25538.069376    302.000000\n",
       "75%       68.000000    37820.508436    401.000000\n",
       "max       89.000000    52764.276736    500.000000"
      ]
     },
     "execution_count": 7,
     "metadata": {},
     "output_type": "execute_result"
    }
   ],
   "source": [
    "data.describe()"
   ]
  },
  {
   "cell_type": "markdown",
   "metadata": {},
   "source": [
    "Полученные значения указывают на следующее:  \n",
    "\n",
    "- средний возраст пациентов **51.5 лет**, с разбросом примерно **19.6 лет**. Возраст самого старого пациента составляет **89 лет**, самого молодого - **13 лет**;   \n",
    "- средняя сумма, взимаемая за медицинские услуги, составляет **25539.3**, однако обнаружены отрицательные значения.  \n",
    "\n",
    "Необходимо обратить особое внимание на отрицательные значение в столбце **'Billing Amount'**, так как они могут указывать на ошибки ввода данных или на возврат средств.  \n",
    "  \n",
    "  \n",
    "Посмотрим, есть ли пропущенные значения в данных:"
   ]
  },
  {
   "cell_type": "code",
   "execution_count": 8,
   "metadata": {},
   "outputs": [
    {
     "data": {
      "text/plain": [
       "Name                  0\n",
       "Age                   0\n",
       "Gender                0\n",
       "Blood Type            0\n",
       "Medical Condition     0\n",
       "Date of Admission     0\n",
       "Doctor                0\n",
       "Hospital              0\n",
       "Insurance Provider    0\n",
       "Billing Amount        0\n",
       "Room Number           0\n",
       "Admission Type        0\n",
       "Discharge Date        0\n",
       "Medication            0\n",
       "Test Results          0\n",
       "dtype: int64"
      ]
     },
     "execution_count": 8,
     "metadata": {},
     "output_type": "execute_result"
    }
   ],
   "source": [
    "data.isna().sum()"
   ]
  },
  {
   "cell_type": "markdown",
   "metadata": {},
   "source": [
    "Пропущенные значения отсутствуют."
   ]
  },
  {
   "cell_type": "markdown",
   "metadata": {},
   "source": [
    "### Data types conversion"
   ]
  },
  {
   "cell_type": "markdown",
   "metadata": {},
   "source": [
    "Так как столбцы с датами поступления и выписки представлены в формате *'object'*, преобразуем эти признаки в *'datetime'*."
   ]
  },
  {
   "cell_type": "code",
   "execution_count": 9,
   "metadata": {},
   "outputs": [],
   "source": [
    "data['Date of Admission'] = pd.to_datetime(data['Date of Admission'])\n",
    "data['Discharge Date'] = pd.to_datetime(data['Discharge Date'])"
   ]
  },
  {
   "cell_type": "markdown",
   "metadata": {},
   "source": [
    "### Categorical features"
   ]
  },
  {
   "cell_type": "markdown",
   "metadata": {},
   "source": [
    "После анализа числовых признаков, перейдем к изучению категориальных данных. Для начала определим, какие столбцы в нашем датасете относятся к категориальным:"
   ]
  },
  {
   "cell_type": "code",
   "execution_count": 10,
   "metadata": {},
   "outputs": [
    {
     "data": {
      "text/plain": [
       "['Name',\n",
       " 'Gender',\n",
       " 'Blood Type',\n",
       " 'Medical Condition',\n",
       " 'Doctor',\n",
       " 'Hospital',\n",
       " 'Insurance Provider',\n",
       " 'Admission Type',\n",
       " 'Medication',\n",
       " 'Test Results']"
      ]
     },
     "execution_count": 10,
     "metadata": {},
     "output_type": "execute_result"
    }
   ],
   "source": [
    "data.select_dtypes(include='object').columns.to_list()"
   ]
  },
  {
   "cell_type": "markdown",
   "metadata": {},
   "source": [
    "Первым делом рассмотрим уникальные значения в столбцах, содержащих названия госпиталей и имена врачей."
   ]
  },
  {
   "cell_type": "code",
   "execution_count": 11,
   "metadata": {},
   "outputs": [
    {
     "data": {
      "text/plain": [
       "(40341, 39876)"
      ]
     },
     "execution_count": 11,
     "metadata": {},
     "output_type": "execute_result"
    }
   ],
   "source": [
    "len(data['Doctor'].unique()), len(data['Hospital'].unique())"
   ]
  },
  {
   "cell_type": "markdown",
   "metadata": {},
   "source": [
    "Обнаружено, что количество уникальных врачей **40341** и госпиталей **39876** приближается к общему числу наблюдений **55000**, что указывает на высокую степень разнообразия этих признаков."
   ]
  },
  {
   "cell_type": "code",
   "execution_count": 12,
   "metadata": {},
   "outputs": [
    {
     "data": {
      "text/plain": [
       "Hospital\n",
       "Abbott Inc                       1\n",
       "Abbott Ltd                       1\n",
       "Abbott Moore and Williams,       1\n",
       "Abbott and Thompson, Sullivan    1\n",
       "Abbott, Peters and Hoffman       1\n",
       "                                ..\n",
       "and Zimmerman Sons               1\n",
       "and Zuniga Davis Carlson,        1\n",
       "and Zuniga Francis Peterson,     1\n",
       "and Zuniga Sons                  1\n",
       "and Zuniga Thompson, Blake       1\n",
       "Name: Test Results, Length: 39876, dtype: int64"
      ]
     },
     "execution_count": 12,
     "metadata": {},
     "output_type": "execute_result"
    }
   ],
   "source": [
    "data.groupby('Hospital')['Test Results'].nunique()"
   ]
  },
  {
   "cell_type": "code",
   "execution_count": 13,
   "metadata": {},
   "outputs": [
    {
     "data": {
      "text/plain": [
       "Doctor\n",
       "Aaron Acevedo      1\n",
       "Aaron Adams        1\n",
       "Aaron Aguilar      1\n",
       "Aaron Alexander    1\n",
       "Aaron Anderson     1\n",
       "                  ..\n",
       "Zoe Khan           1\n",
       "Zoe Knight         1\n",
       "Zoe Nichols        1\n",
       "Zoe Roberts        1\n",
       "Zoe Wallace        1\n",
       "Name: Test Results, Length: 40341, dtype: int64"
      ]
     },
     "execution_count": 13,
     "metadata": {},
     "output_type": "execute_result"
    }
   ],
   "source": [
    "data.groupby('Doctor')['Test Results'].nunique()"
   ]
  },
  {
   "cell_type": "markdown",
   "metadata": {},
   "source": [
    "Из анализа видно, что каждый врач и каждый госпиталь имеют практически уникальные наборы результатов тестов. Это свидетельствует о том, что эти признаки не несут существенной информативной нагрузки для нашей задачи прогнозирования результатов выздоровления, так как не позволяют выделить какие-либо общие закономерности.  \n",
    "  \n",
    "Исходя из этого, было принято решение удалить столбцы **'Hospital'** и **'Doctor'** из набора данных. Кроме того, столбцы **'Name'** и **'Room Number'** также были исключены, поскольку они не предоставляют информации, релевантной для прогнозирования результатов выздоровления."
   ]
  },
  {
   "cell_type": "code",
   "execution_count": 14,
   "metadata": {},
   "outputs": [],
   "source": [
    "data = data.drop(['Name', 'Hospital', 'Doctor', 'Room Number'], axis=1)"
   ]
  },
  {
   "cell_type": "markdown",
   "metadata": {},
   "source": [
    "После удаления неинформативных признаков, таких как имена пациентов, врачей, названия госпиталей и номера палат, перейдем к кодированию оставшихся категориальных данных.  \n",
    "  \n",
    "Для признака **'Gender'** применим mapping, чтобы преобразовать строковые значения в числовые"
   ]
  },
  {
   "cell_type": "code",
   "execution_count": 15,
   "metadata": {},
   "outputs": [
    {
     "data": {
      "text/plain": [
       "array(['Male', 'Female'], dtype=object)"
      ]
     },
     "execution_count": 15,
     "metadata": {},
     "output_type": "execute_result"
    }
   ],
   "source": [
    "data['Gender'].unique()"
   ]
  },
  {
   "cell_type": "code",
   "execution_count": 16,
   "metadata": {},
   "outputs": [],
   "source": [
    "data['Gender'] = data['Gender'].map({\n",
    "    'Male': 0,\n",
    "    'Female': 1\n",
    "})"
   ]
  },
  {
   "cell_type": "markdown",
   "metadata": {},
   "source": [
    "Целевая переменная **'Test Results'**, представляющая результаты тестов *(Abnormal, Inconclusive, Normal)*, будет закодирована с использованием *Label Encoder*. Это позволит нам преобразовать категориальные значения в числовые метки, где:\n",
    "- **'Abnormal'** будет представлено как 0;\n",
    "- **'Inconclusive'** как 1;\n",
    "- **'Normal'** как 2."
   ]
  },
  {
   "cell_type": "code",
   "execution_count": 17,
   "metadata": {},
   "outputs": [
    {
     "name": "stdout",
     "output_type": "stream",
     "text": [
      "Abnormal: 0\n",
      "Inconclusive: 1\n",
      "Normal: 2\n"
     ]
    }
   ],
   "source": [
    "label_encoder = LabelEncoder()\n",
    "data['Test Results'] = label_encoder.fit_transform(data['Test Results'])\n",
    "\n",
    "for cat, code in zip(label_encoder.classes_, range(len(label_encoder.classes_))):\n",
    "    print(f\"{cat}: {code}\")"
   ]
  },
  {
   "cell_type": "markdown",
   "metadata": {},
   "source": [
    "Теперь обратим внимание на оставшиеся категориальные признаки.  \n",
    "\n",
    "Для определения оптимального метода кодирования посмотрим на количество уникальных категорий в каждом из этих признаков."
   ]
  },
  {
   "cell_type": "code",
   "execution_count": 18,
   "metadata": {},
   "outputs": [],
   "source": [
    "cat_features = data.select_dtypes(include='object').columns.to_list()"
   ]
  },
  {
   "cell_type": "code",
   "execution_count": 19,
   "metadata": {},
   "outputs": [
    {
     "name": "stdout",
     "output_type": "stream",
     "text": [
      "'Blood Type' column's unique values:\n",
      " ['B-' 'A+' 'A-' 'O+' 'AB+' 'AB-' 'B+' 'O-']\n",
      "\n",
      "'Medical Condition' column's unique values:\n",
      " ['Cancer' 'Obesity' 'Diabetes' 'Asthma' 'Hypertension' 'Arthritis']\n",
      "\n",
      "'Insurance Provider' column's unique values:\n",
      " ['Blue Cross' 'Medicare' 'Aetna' 'UnitedHealthcare' 'Cigna']\n",
      "\n",
      "'Admission Type' column's unique values:\n",
      " ['Urgent' 'Emergency' 'Elective']\n",
      "\n",
      "'Medication' column's unique values:\n",
      " ['Paracetamol' 'Ibuprofen' 'Aspirin' 'Penicillin' 'Lipitor']\n",
      "\n"
     ]
    }
   ],
   "source": [
    "for el in list(cat_features):\n",
    "    print(f\"'{el}' column's unique values:\\n {data[el].unique()}\\n\")"
   ]
  },
  {
   "cell_type": "markdown",
   "metadata": {},
   "source": [
    "Как видно, минимальное количество категорий составляет 3, а максимальное - 8. \n",
    "\n",
    "Учитывая то, что признаки имеют не большое количество категорий, *One-Hot Encoding* будет наиболее подходящим методом.  \n",
    "\n",
    "*One-Hot Encoding* позволит нам преобразовать каждую категорию в отдельный бинарный столбец, что обеспечит корректное представление категориальных данных для дальнейшего анализа и моделирования."
   ]
  },
  {
   "cell_type": "code",
   "execution_count": 20,
   "metadata": {},
   "outputs": [],
   "source": [
    "one_hot_encoder = OneHotEncoder(sparse_output=False)\n",
    "one_hot_df = one_hot_encoder.fit_transform(data[cat_features])\n",
    "\n",
    "data_encoded = pd.DataFrame(one_hot_df, columns=one_hot_encoder.get_feature_names_out(cat_features))\n",
    "data_encoded = pd.concat([data, data_encoded], axis=1)\n",
    "data_encoded = data_encoded.drop(cat_features, axis=1)"
   ]
  },
  {
   "cell_type": "code",
   "execution_count": 19,
   "metadata": {},
   "outputs": [
    {
     "name": "stdout",
     "output_type": "stream",
     "text": [
      "<class 'pandas.core.frame.DataFrame'>\n",
      "RangeIndex: 55500 entries, 0 to 55499\n",
      "Data columns (total 33 columns):\n",
      " #   Column                               Non-Null Count  Dtype         \n",
      "---  ------                               --------------  -----         \n",
      " 0   Age                                  55500 non-null  int64         \n",
      " 1   Gender                               55500 non-null  int64         \n",
      " 2   Date of Admission                    55500 non-null  datetime64[ns]\n",
      " 3   Billing Amount                       55500 non-null  float64       \n",
      " 4   Discharge Date                       55500 non-null  datetime64[ns]\n",
      " 5   Test Results                         55500 non-null  int64         \n",
      " 6   Blood Type_A+                        55500 non-null  float64       \n",
      " 7   Blood Type_A-                        55500 non-null  float64       \n",
      " 8   Blood Type_AB+                       55500 non-null  float64       \n",
      " 9   Blood Type_AB-                       55500 non-null  float64       \n",
      " 10  Blood Type_B+                        55500 non-null  float64       \n",
      " 11  Blood Type_B-                        55500 non-null  float64       \n",
      " 12  Blood Type_O+                        55500 non-null  float64       \n",
      " 13  Blood Type_O-                        55500 non-null  float64       \n",
      " 14  Medical Condition_Arthritis          55500 non-null  float64       \n",
      " 15  Medical Condition_Asthma             55500 non-null  float64       \n",
      " 16  Medical Condition_Cancer             55500 non-null  float64       \n",
      " 17  Medical Condition_Diabetes           55500 non-null  float64       \n",
      " 18  Medical Condition_Hypertension       55500 non-null  float64       \n",
      " 19  Medical Condition_Obesity            55500 non-null  float64       \n",
      " 20  Insurance Provider_Aetna             55500 non-null  float64       \n",
      " 21  Insurance Provider_Blue Cross        55500 non-null  float64       \n",
      " 22  Insurance Provider_Cigna             55500 non-null  float64       \n",
      " 23  Insurance Provider_Medicare          55500 non-null  float64       \n",
      " 24  Insurance Provider_UnitedHealthcare  55500 non-null  float64       \n",
      " 25  Admission Type_Elective              55500 non-null  float64       \n",
      " 26  Admission Type_Emergency             55500 non-null  float64       \n",
      " 27  Admission Type_Urgent                55500 non-null  float64       \n",
      " 28  Medication_Aspirin                   55500 non-null  float64       \n",
      " 29  Medication_Ibuprofen                 55500 non-null  float64       \n",
      " 30  Medication_Lipitor                   55500 non-null  float64       \n",
      " 31  Medication_Paracetamol               55500 non-null  float64       \n",
      " 32  Medication_Penicillin                55500 non-null  float64       \n",
      "dtypes: datetime64[ns](2), float64(28), int64(3)\n",
      "memory usage: 14.0 MB\n"
     ]
    }
   ],
   "source": [
    "data_encoded.info()"
   ]
  },
  {
   "cell_type": "markdown",
   "metadata": {},
   "source": [
    "Теперь набор данных полностью подготовлен для дальнейшего анализа и построения моделей."
   ]
  },
  {
   "cell_type": "markdown",
   "metadata": {},
   "source": [
    "### Datatime new feature"
   ]
  },
  {
   "cell_type": "markdown",
   "metadata": {},
   "source": [
    "Для более глубокого понимания влияния тяжести заболевания на результаты лечения, мы создадим новый признак – **'продолжительность лечения'**.  \n",
    "\n",
    "Этот признак позволит нам оценить, как длительность пребывания пациента в медицинском учреждении коррелирует с исходом лечения. Предполагается, что пациенты с более длительным периодом лечения могут иметь более сложные случаи, что, в свою очередь, может отразиться на результатах их анализов."
   ]
  },
  {
   "cell_type": "code",
   "execution_count": 24,
   "metadata": {},
   "outputs": [],
   "source": [
    "data_encoded['Days in Hospital'] = (data_encoded['Discharge Date'] - data_encoded['Date of Admission']).dt.days"
   ]
  },
  {
   "cell_type": "markdown",
   "metadata": {},
   "source": [
    "## IN PROCESS"
   ]
  },
  {
   "cell_type": "markdown",
   "metadata": {},
   "source": [
    "### Outliers"
   ]
  },
  {
   "cell_type": "code",
   "execution_count": 22,
   "metadata": {},
   "outputs": [
    {
     "data": {
      "image/png": "[encoded data removed]",
      "text/plain": [
       "<Figure size 1200x600 with 2 Axes>"
      ]
     },
     "metadata": {},
     "output_type": "display_data"
    }
   ],
   "source": [
    "fig, axes = plt.subplots(1, 2, figsize=(12, 6))\n",
    "\n",
    "sns.boxplot(data_encoded['Billing Amount'], ax=axes[0])\n",
    "axes[0].set_title('Boxplot Billing Amount')\n",
    "\n",
    "data_encoded['Billing Amount'].hist(ax=axes[1])\n",
    "axes[1].set_title('Histogram Billing Amount')\n",
    "\n",
    "plt.tight_layout()\n",
    "plt.show()"
   ]
  },
  {
   "cell_type": "code",
   "execution_count": 23,
   "metadata": {},
   "outputs": [
    {
     "data": {
      "image/png": "[encoded data removed]",
      "text/plain": [
       "<Figure size 1200x600 with 2 Axes>"
      ]
     },
     "metadata": {},
     "output_type": "display_data"
    }
   ],
   "source": [
    "fig, axes = plt.subplots(1, 2, figsize=(12, 6))\n",
    "\n",
    "sns.boxplot(data=data_encoded['Age'], ax=axes[0])\n",
    "axes[0].set_title('Boxplot Age')\n",
    "\n",
    "data['Age'].hist(ax=axes[1])\n",
    "axes[1].set_title('Histogram Age')\n",
    "\n",
    "plt.tight_layout()\n",
    "plt.show()"
   ]
  },
  {
   "cell_type": "markdown",
   "metadata": {},
   "source": [
    "    как можем видеть выбросов нигде нет, распредления близки к нормальным. так же проверим, распределение количества дней в госпитале, чтобы избежать выбросов и некорректно введенных дат"
   ]
  },
  {
   "cell_type": "code",
   "execution_count": 24,
   "metadata": {},
   "outputs": [
    {
     "data": {
      "image/png": "[encoded data removed]",
      "text/plain": [
       "<Figure size 1200x600 with 2 Axes>"
      ]
     },
     "metadata": {},
     "output_type": "display_data"
    }
   ],
   "source": [
    "fig, axes = plt.subplots(1, 2, figsize=(12, 6))\n",
    "\n",
    "sns.boxplot(data=data_encoded['Days in Hospital'], ax=axes[0])\n",
    "axes[0].set_title('Boxplot Days in Hospital')\n",
    "\n",
    "data['Age'].hist(ax=axes[1])\n",
    "axes[1].set_title('Histogram Days in Hospital')\n",
    "\n",
    "plt.tight_layout()\n",
    "plt.show()"
   ]
  },
  {
   "cell_type": "markdown",
   "metadata": {},
   "source": [
    "    тут так же выбросов никаких нет, значит все ок"
   ]
  },
  {
   "cell_type": "markdown",
   "metadata": {},
   "source": [
    "### Visualisation analysis"
   ]
  },
  {
   "cell_type": "code",
   "execution_count": 25,
   "metadata": {},
   "outputs": [
    {
     "data": {
      "image/png": "[encoded data removed]",
      "text/plain": [
       "<Figure size 557.75x500 with 1 Axes>"
      ]
     },
     "metadata": {},
     "output_type": "display_data"
    }
   ],
   "source": [
    "sns.catplot(x=data['Medical Condition'], y=data['Age'], hue=data['Gender'], kind='bar');"
   ]
  },
  {
   "cell_type": "markdown",
   "metadata": {},
   "source": [
    "    как можно заметить нет явного заболевания которое проявлялось либо только в молодом либо только в пожилом возрасте.\n",
    "    так же средний возраст пациента не зависит от пола"
   ]
  },
  {
   "cell_type": "markdown",
   "metadata": {},
   "source": [
    "    теперь посмотрим на длительность болезни"
   ]
  },
  {
   "cell_type": "code",
   "execution_count": 26,
   "metadata": {},
   "outputs": [
    {
     "data": {
      "text/html": [
       "<div>\n",
       "<style scoped>\n",
       "    .dataframe tbody tr th:only-of-type {\n",
       "        vertical-align: middle;\n",
       "    }\n",
       "\n",
       "    .dataframe tbody tr th {\n",
       "        vertical-align: top;\n",
       "    }\n",
       "\n",
       "    .dataframe thead th {\n",
       "        text-align: right;\n",
       "    }\n",
       "</style>\n",
       "<table border=\"1\" class=\"dataframe\">\n",
       "  <thead>\n",
       "    <tr style=\"text-align: right;\">\n",
       "      <th></th>\n",
       "      <th>Age</th>\n",
       "      <th>Gender</th>\n",
       "      <th>Blood Type</th>\n",
       "      <th>Medical Condition</th>\n",
       "      <th>Date of Admission</th>\n",
       "      <th>Insurance Provider</th>\n",
       "      <th>Billing Amount</th>\n",
       "      <th>Admission Type</th>\n",
       "      <th>Discharge Date</th>\n",
       "      <th>Medication</th>\n",
       "      <th>Test Results</th>\n",
       "    </tr>\n",
       "  </thead>\n",
       "  <tbody>\n",
       "    <tr>\n",
       "      <th>0</th>\n",
       "      <td>30</td>\n",
       "      <td>0</td>\n",
       "      <td>B-</td>\n",
       "      <td>Cancer</td>\n",
       "      <td>2024-01-31</td>\n",
       "      <td>Blue Cross</td>\n",
       "      <td>18856.281306</td>\n",
       "      <td>Urgent</td>\n",
       "      <td>2024-02-02</td>\n",
       "      <td>Paracetamol</td>\n",
       "      <td>2</td>\n",
       "    </tr>\n",
       "    <tr>\n",
       "      <th>1</th>\n",
       "      <td>62</td>\n",
       "      <td>0</td>\n",
       "      <td>A+</td>\n",
       "      <td>Obesity</td>\n",
       "      <td>2019-08-20</td>\n",
       "      <td>Medicare</td>\n",
       "      <td>33643.327287</td>\n",
       "      <td>Emergency</td>\n",
       "      <td>2019-08-26</td>\n",
       "      <td>Ibuprofen</td>\n",
       "      <td>1</td>\n",
       "    </tr>\n",
       "    <tr>\n",
       "      <th>2</th>\n",
       "      <td>76</td>\n",
       "      <td>1</td>\n",
       "      <td>A-</td>\n",
       "      <td>Obesity</td>\n",
       "      <td>2022-09-22</td>\n",
       "      <td>Aetna</td>\n",
       "      <td>27955.096079</td>\n",
       "      <td>Emergency</td>\n",
       "      <td>2022-10-07</td>\n",
       "      <td>Aspirin</td>\n",
       "      <td>2</td>\n",
       "    </tr>\n",
       "    <tr>\n",
       "      <th>3</th>\n",
       "      <td>28</td>\n",
       "      <td>1</td>\n",
       "      <td>O+</td>\n",
       "      <td>Diabetes</td>\n",
       "      <td>2020-11-18</td>\n",
       "      <td>Medicare</td>\n",
       "      <td>37909.782410</td>\n",
       "      <td>Elective</td>\n",
       "      <td>2020-12-18</td>\n",
       "      <td>Ibuprofen</td>\n",
       "      <td>0</td>\n",
       "    </tr>\n",
       "    <tr>\n",
       "      <th>4</th>\n",
       "      <td>43</td>\n",
       "      <td>1</td>\n",
       "      <td>AB+</td>\n",
       "      <td>Cancer</td>\n",
       "      <td>2022-09-19</td>\n",
       "      <td>Aetna</td>\n",
       "      <td>14238.317814</td>\n",
       "      <td>Urgent</td>\n",
       "      <td>2022-10-09</td>\n",
       "      <td>Penicillin</td>\n",
       "      <td>0</td>\n",
       "    </tr>\n",
       "  </tbody>\n",
       "</table>\n",
       "</div>"
      ],
      "text/plain": [
       "   Age  Gender Blood Type Medical Condition Date of Admission  \\\n",
       "0   30       0         B-            Cancer        2024-01-31   \n",
       "1   62       0         A+           Obesity        2019-08-20   \n",
       "2   76       1         A-           Obesity        2022-09-22   \n",
       "3   28       1         O+          Diabetes        2020-11-18   \n",
       "4   43       1        AB+            Cancer        2022-09-19   \n",
       "\n",
       "  Insurance Provider  Billing Amount Admission Type Discharge Date  \\\n",
       "0         Blue Cross    18856.281306         Urgent     2024-02-02   \n",
       "1           Medicare    33643.327287      Emergency     2019-08-26   \n",
       "2              Aetna    27955.096079      Emergency     2022-10-07   \n",
       "3           Medicare    37909.782410       Elective     2020-12-18   \n",
       "4              Aetna    14238.317814         Urgent     2022-10-09   \n",
       "\n",
       "    Medication  Test Results  \n",
       "0  Paracetamol             2  \n",
       "1    Ibuprofen             1  \n",
       "2      Aspirin             2  \n",
       "3    Ibuprofen             0  \n",
       "4   Penicillin             0  "
      ]
     },
     "execution_count": 26,
     "metadata": {},
     "output_type": "execute_result"
    }
   ],
   "source": [
    "data.head()"
   ]
  },
  {
   "cell_type": "code",
   "execution_count": 27,
   "metadata": {},
   "outputs": [
    {
     "data": {
      "image/png": "[encoded data removed]",
      "text/plain": [
       "<Figure size 557.75x500 with 1 Axes>"
      ]
     },
     "metadata": {},
     "output_type": "display_data"
    }
   ],
   "source": [
    "sns.catplot(x=data['Medical Condition'], y=data_encoded['Days in Hospital'], hue=data['Gender'], kind='bar', palette='hls');"
   ]
  },
  {
   "cell_type": "markdown",
   "metadata": {},
   "source": [
    "    как можено увидеть количество дней проведенных в больнице не зависит от тяжести болезни"
   ]
  },
  {
   "cell_type": "markdown",
   "metadata": {},
   "source": [
    "    посмотрим на распределение целевой переменной, чтобы понять баланс классов"
   ]
  },
  {
   "cell_type": "code",
   "execution_count": 38,
   "metadata": {},
   "outputs": [
    {
     "data": {
      "image/png": "[encoded data removed]",
      "text/plain": [
       "<Figure size 640x480 with 1 Axes>"
      ]
     },
     "metadata": {},
     "output_type": "display_data"
    }
   ],
   "source": [
    "data_encoded['Test Results'].hist();"
   ]
  },
  {
   "cell_type": "markdown",
   "metadata": {},
   "source": [
    "    дисбаланса в классах нет"
   ]
  },
  {
   "cell_type": "markdown",
   "metadata": {},
   "source": [
    "### Correlation"
   ]
  },
  {
   "cell_type": "code",
   "execution_count": 28,
   "metadata": {},
   "outputs": [
    {
     "data": {
      "text/plain": [
       "<Axes: >"
      ]
     },
     "execution_count": 28,
     "metadata": {},
     "output_type": "execute_result"
    },
    {
     "data": {
      "image/png": "[encoded data removed]",
      "text/plain": [
       "<Figure size 640x480 with 2 Axes>"
      ]
     },
     "metadata": {},
     "output_type": "display_data"
    }
   ],
   "source": [
    "sns.heatmap(data_encoded.loc[:, ['Date of Admission', 'Discharge Date', 'Days in Hospital']].corr(), annot=True)"
   ]
  },
  {
   "cell_type": "code",
   "execution_count": null,
   "metadata": {},
   "outputs": [],
   "source": []
  }
 ],
 "metadata": {
  "kernelspec": {
   "display_name": "base",
   "language": "python",
   "name": "python3"
  },
  "language_info": {
   "codemirror_mode": {
    "name": "ipython",
    "version": 3
   },
   "file_extension": ".py",
   "mimetype": "text/x-python",
   "name": "python",
   "nbconvert_exporter": "python",
   "pygments_lexer": "ipython3",
   "version": "3.11.7"
  }
 },
 "nbformat": 4,
 "nbformat_minor": 2
}
